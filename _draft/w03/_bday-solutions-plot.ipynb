{
 "cells": [
  {
   "cell_type": "code",
   "execution_count": 3,
   "metadata": {
    "vscode": {
     "languageId": "r"
    }
   },
   "outputs": [
    {
     "name": "stderr",
     "output_type": "stream",
     "text": [
      "-- \u001b[1mAttaching core tidyverse packages\u001b[22m ------------------------ tidyverse 2.0.0 --\n",
      "\u001b[32mv\u001b[39m \u001b[34mdplyr    \u001b[39m 1.1.4     \u001b[32mv\u001b[39m \u001b[34mreadr    \u001b[39m 2.1.5\n",
      "\u001b[32mv\u001b[39m \u001b[34mforcats  \u001b[39m 1.0.0     \u001b[32mv\u001b[39m \u001b[34mstringr  \u001b[39m 1.5.1\n",
      "\u001b[32mv\u001b[39m \u001b[34mggplot2  \u001b[39m 3.5.1     \u001b[32mv\u001b[39m \u001b[34mtibble   \u001b[39m 3.2.1\n",
      "\u001b[32mv\u001b[39m \u001b[34mlubridate\u001b[39m 1.9.3     \u001b[32mv\u001b[39m \u001b[34mtidyr    \u001b[39m 1.3.1\n",
      "\u001b[32mv\u001b[39m \u001b[34mpurrr    \u001b[39m 1.0.2     \n",
      "-- \u001b[1mConflicts\u001b[22m ------------------------------------------ tidyverse_conflicts() --\n",
      "\u001b[31mx\u001b[39m \u001b[34mdplyr\u001b[39m::\u001b[32mfilter()\u001b[39m masks \u001b[34mstats\u001b[39m::filter()\n",
      "\u001b[31mx\u001b[39m \u001b[34mdplyr\u001b[39m::\u001b[32mlag()\u001b[39m    masks \u001b[34mstats\u001b[39m::lag()\n",
      "\u001b[36mi\u001b[39m Use the conflicted package (\u001b[3m\u001b[34m<http://conflicted.r-lib.org/>\u001b[39m\u001b[23m) to force all conflicts to become errors\n"
     ]
    }
   ],
   "source": [
    "#| label: gen-bday-rooms-fn\n",
    "library(tidyverse)\n",
    "exact_solution <- 1 - (prod(seq(337,366))) / (366^30)\n",
    "gen_bday_room <- function(room_num=NULL) {\n",
    "  num_people <- 30\n",
    "  num_days <- 366\n",
    "  ppl_df <- tibble(id=seq(1,num_people))\n",
    "birthdays <- sample(1:num_days, num_people,replace = T)\n",
    "  ppl_df['birthday'] <- birthdays\n",
    "  if (!is.null(room_num)) {\n",
    "    ppl_df <- ppl_df %>% mutate(room_num=room_num) %>% relocate(room_num)\n",
    "  }\n",
    "  return(ppl_df)\n",
    "}\n",
    "gen_bday_rooms <- function(num_rooms) {\n",
    "  rooms_df <- tibble()\n",
    "  for (r in seq(1, num_rooms)) {\n",
    "      cur_room <- gen_bday_room(r)\n",
    "      rooms_df <- bind_rows(rooms_df, cur_room)\n",
    "  }\n",
    "  return(rooms_df)\n",
    "}\n",
    "\n",
    "get_shared_bdays <- function(df, is_grouped=NULL, return_num=FALSE, return_bool=FALSE) {\n",
    "  bday_pairs <- tibble()\n",
    "  for (i in 1:(nrow(df)-1)) {\n",
    "    i_data <- df[i,]\n",
    "    i_bday <- i_data$birthday\n",
    "    for (j in (i+1):nrow(df)) {\n",
    "      j_data <- df[j,]\n",
    "      j_bday <- j_data$birthday\n",
    "      # Check if they're the same\n",
    "      same_bday <- i_bday == j_bday\n",
    "      if (same_bday) {\n",
    "        if (return_bool) {\n",
    "          return(1)\n",
    "        }\n",
    "        pair_data <- tibble(i=i,j=j,bday=i_bday)\n",
    "        if (!is.null(is_grouped)) {\n",
    "          i_room <- i_data$room_num\n",
    "          pair_data['room'] <- i_room\n",
    "        }\n",
    "        bday_pairs <- bind_rows(bday_pairs, pair_data)\n",
    "      }\n",
    "    }\n",
    "  }\n",
    "  if (return_bool) {\n",
    "    return(0)\n",
    "  }\n",
    "  if (return_num) {\n",
    "    return(nrow(bday_pairs))\n",
    "  }\n",
    "  return(bday_pairs)\n",
    "}"
   ]
  },
  {
   "cell_type": "code",
   "execution_count": 11,
   "metadata": {
    "vscode": {
     "languageId": "r"
    }
   },
   "outputs": [
    {
     "name": "stdout",
     "output_type": "stream",
     "text": [
      "[1] \"loop\"\n"
     ]
    }
   ],
   "source": [
    "#| label: bday-solns-plot\n",
    "#| fig-width: 8\n",
    "#| fig-height: 6\n",
    "source(\"../_globals.r\")\n",
    "library(ggplot2)\n",
    "options(ggplot2.discrete.colour = cbPalette)\n",
    "global_theme <- ggplot2::theme_classic() + ggplot2::theme(\n",
    "    plot.title = element_text(hjust = 0.5, size = 18),\n",
    "    axis.title = element_text(size = 16),\n",
    "    axis.text = element_text(size = 14),\n",
    "    legend.title = element_text(size = 16, hjust = 0.5),\n",
    "    legend.text = element_text(size = 14),\n",
    "    legend.box.background = element_rect(colour = \"black\")\n",
    ")\n",
    "knitr::opts_chunk$set(fig.align = \"center\")\n",
    "g_pointsize <- 6\n",
    "# Bday problem\n",
    "trials_per_roomsize <- 3\n",
    "bday_est_lbounds <- c()\n",
    "bday_est_means <- c()\n",
    "bday_est_ubounds <- c()\n",
    "sample_sizes <- c()\n",
    "print(\"loop\")\n",
    "for (num_rooms_many in c(10, 50, 100, 500, 1000)) {\n",
    "  print(num_rooms_many)\n",
    "  cur_size_ests <- c()\n",
    "  for (trial_num in seq(1,trials_per_roomsize)) {\n",
    "    print(trial_num)\n",
    "    many_rooms_df <- gen_bday_rooms(num_rooms_many)\n",
    "    anyshared_per_room <- many_rooms_df |>\n",
    "        group_by(room_num) |>\n",
    "        group_map(~ get_shared_bdays(.x, is_grouped = TRUE, return_bool = TRUE))\n",
    "    anyshared_per_room <- unlist(anyshared_per_room)\n",
    "    cur_est <- sum(anyshared_per_room > 0) / num_rooms_many\n",
    "    cur_size_ests <- c(cur_size_ests, cur_est)\n",
    "  }\n",
    "  bday_est_lbounds <- c(bday_est_lbounds, min(cur_size_ests))\n",
    "  bday_est_ubounds <- c(bday_est_ubounds, max(cur_size_ests))\n",
    "  bday_est_means <- c(bday_est_means, mean(cur_size_ests))\n",
    "  sample_sizes <- c(sample_sizes, num_rooms_many)\n",
    "}\n",
    "result_df <- tibble(n=sample_sizes,est=bday_est_means, lbound=bday_est_lbounds, ubound=bday_est_ubounds)\n",
    "base_plot <- ggplot(result_df, aes(x=n, y=est)) +\n",
    "  geom_point(aes(color=\"black\")) +\n",
    "  geom_line(color=\"black\") +\n",
    "  geom_ribbon(aes(ymin = lbound, ymax = ubound, fill = cbPalette[1]), alpha = 0.3) +\n",
    "      geom_hline(aes(yintercept = exact_solution, linetype = \"dashed\"), color = \"purple\") +\n",
    "      scale_color_manual(\"\", values = c(\"black\", \"purple\"), labels = c(\"Sample Mean X\", \"True Mean mu\")) +\n",
    "      scale_linetype_manual(\"\", values = \"dashed\", labels = \"True Mean mu\") +\n",
    "      scale_fill_manual(\"\", values = cbPalette[1], labels = \"95% CI\") +\n",
    "      global_theme +\n",
    "      theme(\n",
    "          legend.title = element_blank(),\n",
    "          legend.spacing.y = unit(0, \"mm\")\n",
    "      ) +\n",
    "      labs(\n",
    "          title = \"Monte Carlo Estimates of Birthday Problem Solution\",\n",
    "          x = \"n (Sample Size)\",\n",
    "          y = \"Estimate\"\n",
    "      )\n",
    "log_plot <- base_plot + scale_x_log10(breaks=c(10,100,1000,10000,100000), labels=c(\"10\",\"100\",\"1000\",\"10000\",\"100000\"))\n",
    "log_plot"
   ]
  },
  {
   "cell_type": "code",
   "execution_count": null,
   "metadata": {
    "vscode": {
     "languageId": "r"
    }
   },
   "outputs": [],
   "source": []
  }
 ],
 "metadata": {
  "kernelspec": {
   "display_name": "R",
   "language": "R",
   "name": "ir"
  },
  "language_info": {
   "codemirror_mode": "r",
   "file_extension": ".r",
   "mimetype": "text/x-r-source",
   "name": "R",
   "pygments_lexer": "r",
   "version": "4.4.1"
  }
 },
 "nbformat": 4,
 "nbformat_minor": 2
}
